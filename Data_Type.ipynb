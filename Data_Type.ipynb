{
  "nbformat": 4,
  "nbformat_minor": 0,
  "metadata": {
    "colab": {
      "provenance": []
    },
    "kernelspec": {
      "name": "python3",
      "display_name": "Python 3"
    },
    "language_info": {
      "name": "python"
    }
  },
  "cells": [
    {
      "cell_type": "markdown",
      "source": [
        "Q: What are data types in Python?\n",
        "Ans: Data types in Python define the type of value a variable holds, such as\n",
        "     integers, strings, floats, etc. They help Python understand how the data should be stored and manipulated.\n",
        "Q: What is the difference between mutable and immutable data types in Python?\n",
        "Ans:-Mutable data types can be changed after creation (e.g., list, dict, set).\n",
        "     Immutable data types cannot be changed after creation (e.g., int, float, string, tuple)."
      ],
      "metadata": {
        "id": "YzbBwkkRbFyF"
      }
    },
    {
      "cell_type": "code",
      "source": [
        "a = 10            # int\n",
        "b = 3.14          # float\n",
        "c = \"Hello\"       # string\n",
        "d = True          # boolean\n",
        "e = [1, 2, 3]     # list\n",
        "f = (4, 5, 6)     # tuple\n",
        "g = {\"x\": 1}      # dictionary\n",
        "\n",
        "print(type(a))  # <class 'int'>\n",
        "print(type(b))  # <class 'float'>\n",
        "print(type(c))  # <class 'str'>\n",
        "print(type(d))  # <class 'bool'>\n",
        "print(type(e))  # <class 'list'>\n",
        "print(type(f))  # <class 'tuple'>\n",
        "print(type(g))  # <class 'dict'>"
      ],
      "metadata": {
        "colab": {
          "base_uri": "https://localhost:8080/"
        },
        "id": "-xpgIzUBcF3k",
        "outputId": "18ae74b4-1b81-4070-e548-c23632330733"
      },
      "execution_count": 1,
      "outputs": [
        {
          "output_type": "stream",
          "name": "stdout",
          "text": [
            "<class 'int'>\n",
            "<class 'float'>\n",
            "<class 'str'>\n",
            "<class 'bool'>\n",
            "<class 'list'>\n",
            "<class 'tuple'>\n",
            "<class 'dict'>\n"
          ]
        }
      ]
    }
  ]
}